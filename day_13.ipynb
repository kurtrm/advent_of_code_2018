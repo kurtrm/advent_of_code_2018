{
 "cells": [
  {
   "cell_type": "code",
   "execution_count": 9,
   "metadata": {
    "collapsed": true
   },
   "outputs": [],
   "source": [
    "import numpy as np\n",
    "import scipy.stats as scs\n",
    "import matplotlib.pyplot as plt\n",
    "import pandas as pd\n",
    "%matplotlib inline\n",
    "from IPython.core.interactiveshell import InteractiveShell\n",
    "InteractiveShell.ast_node_interactivity = 'all'"
   ]
  },
  {
   "cell_type": "code",
   "execution_count": 1,
   "metadata": {
    "collapsed": true
   },
   "outputs": [],
   "source": [
    "from read_file import read_input"
   ]
  },
  {
   "cell_type": "code",
   "execution_count": 42,
   "metadata": {},
   "outputs": [],
   "source": [
    "tracks = read_input('input_13.txt', '\\n')[:-1]"
   ]
  },
  {
   "cell_type": "code",
   "execution_count": 6,
   "metadata": {},
   "outputs": [
    {
     "data": {
      "text/plain": [
       "'                                             /---------------------------------------------------------------------------------------------\\\\          '"
      ]
     },
     "execution_count": 6,
     "metadata": {},
     "output_type": "execute_result"
    }
   ],
   "source": [
    "tracks[0]"
   ]
  },
  {
   "cell_type": "code",
   "execution_count": 45,
   "metadata": {},
   "outputs": [],
   "source": [
    "listed = [[letter for letter in track] for track in tracks]"
   ]
  },
  {
   "cell_type": "code",
   "execution_count": 47,
   "metadata": {},
   "outputs": [],
   "source": [
    "np_tracks = np.array(listed)"
   ]
  },
  {
   "cell_type": "code",
   "execution_count": 70,
   "metadata": {},
   "outputs": [
    {
     "data": {
      "text/plain": [
       "(array([  1,   9,  19,  22,  22,  37,  39,  46,  58,  83,  91, 103, 116,\n",
       "        123, 135, 139, 145]),\n",
       " array([ 24,  82, 122,  31,  61,  25,  28,  81, 134,  90, 147,  29,  76,\n",
       "         99,  79,  91,   3]))"
      ]
     },
     "execution_count": 70,
     "metadata": {},
     "output_type": "execute_result"
    }
   ],
   "source": [
    "np.where(np.isin(np_tracks, ['<', '>', '^', 'v']))"
   ]
  },
  {
   "cell_type": "code",
   "execution_count": 71,
   "metadata": {},
   "outputs": [
    {
     "data": {
      "text/plain": [
       "'<'"
      ]
     },
     "execution_count": 71,
     "metadata": {},
     "output_type": "execute_result"
    }
   ],
   "source": [
    "np_tracks[1, 24]"
   ]
  },
  {
   "cell_type": "code",
   "execution_count": 231,
   "metadata": {},
   "outputs": [],
   "source": [
    "fa = np.array(np.where(np.isin(np_tracks, ['<', '>', '^', 'v']))).T"
   ]
  },
  {
   "cell_type": "code",
   "execution_count": 76,
   "metadata": {
    "collapsed": true
   },
   "outputs": [],
   "source": [
    "carts = _"
   ]
  },
  {
   "cell_type": "code",
   "execution_count": 99,
   "metadata": {
    "collapsed": true
   },
   "outputs": [],
   "source": [
    "cart_moves = {'west': np.array([0, -1]),\n",
    "              'east': np.array([0, 1]),\n",
    "              'north': np.array([-1, 0]),\n",
    "              'south': np.array([1, 0])}\n",
    "cart_orientations = {'<': 'west',\n",
    "                     '>': 'east',\n",
    "                     '^': 'north',\n",
    "                     'v': 'south'}\n",
    "cardinal_dirs = {'north': {'left': 'west', 'straight': 'north', 'right': 'east'},\n",
    "                 'south': {'left': 'east', 'straight': 'south', 'right': 'west'},\n",
    "                 'west': {'left': 'south', 'straight': 'west', 'right': 'north'},\n",
    "                 'east': {'left': 'north', 'straight': 'east', 'right': 'south'}\n",
    "}"
   ]
  },
  {
   "cell_type": "code",
   "execution_count": 114,
   "metadata": {},
   "outputs": [],
   "source": [
    "current_orientations = np.array([cart_orientations[np_tracks[row, col]] for row, col in carts])"
   ]
  },
  {
   "cell_type": "code",
   "execution_count": 115,
   "metadata": {},
   "outputs": [
    {
     "data": {
      "text/plain": [
       "array(['west', 'west', 'north', 'east', 'east', 'east', 'south', 'west',\n",
       "       'south', 'east', 'north', 'north', 'east', 'west', 'east', 'east',\n",
       "       'west'], dtype='<U5')"
      ]
     },
     "execution_count": 115,
     "metadata": {},
     "output_type": "execute_result"
    }
   ],
   "source": [
    "current_orientations"
   ]
  },
  {
   "cell_type": "code",
   "execution_count": 116,
   "metadata": {},
   "outputs": [],
   "source": [
    "next_moves = np.array(['left' for _ in range(len(current_orientations))], dtype='<U8')"
   ]
  },
  {
   "cell_type": "code",
   "execution_count": 117,
   "metadata": {},
   "outputs": [],
   "source": [
    "def change_direction(cart_row_num, next_moves, current_orientations):\n",
    "    next_move = next_moves[cart_row_num]\n",
    "    curr_dir = current_orientations[cart_row_num]\n",
    "    current_orientations[cart_row_num] = cardinal_dirs[curr_dir][next_move]\n",
    "    if next_move == 'left':\n",
    "        next_next_move = 'straight'\n",
    "    elif next_move == 'straight':\n",
    "        next_next_move = 'right'\n",
    "    else:\n",
    "        next_next_move = 'left'\n",
    "    next_moves[cart_row_num] = next_next_move"
   ]
  },
  {
   "cell_type": "code",
   "execution_count": 125,
   "metadata": {},
   "outputs": [],
   "source": [
    "change_direction(1, next_moves, current_orientations)"
   ]
  },
  {
   "cell_type": "code",
   "execution_count": 126,
   "metadata": {},
   "outputs": [
    {
     "data": {
      "text/plain": [
       "array(['west', 'west', 'north', 'east', 'east', 'east', 'south', 'west',\n",
       "       'south', 'east', 'north', 'north', 'east', 'west', 'east', 'east',\n",
       "       'west'], dtype='<U5')"
      ]
     },
     "execution_count": 126,
     "metadata": {},
     "output_type": "execute_result"
    }
   ],
   "source": [
    "current_orientations"
   ]
  },
  {
   "cell_type": "code",
   "execution_count": 127,
   "metadata": {},
   "outputs": [
    {
     "data": {
      "text/plain": [
       "array(['left', 'left', 'left', 'left', 'left', 'left', 'left', 'left',\n",
       "       'left', 'left', 'left', 'left', 'left', 'left', 'left', 'left',\n",
       "       'left'], dtype='<U8')"
      ]
     },
     "execution_count": 127,
     "metadata": {},
     "output_type": "execute_result"
    }
   ],
   "source": [
    "next_moves"
   ]
  },
  {
   "cell_type": "code",
   "execution_count": 387,
   "metadata": {
    "collapsed": true
   },
   "outputs": [],
   "source": [
    "def find_crash():\n",
    "    tracks = read_input('input_13.txt', '\\n')[:-1]\n",
    "    listed = [[letter for letter in track] for track in tracks]\n",
    "    np_tracks = np.array(listed)\n",
    "#     new_ex = \"\"\"/->-\\        \n",
    "# |   |  /----\\\\\n",
    "# | /-+--+-\\  |\n",
    "# | | |  | v  |\n",
    "# \\-+-/  \\-+--/\n",
    "#   \\------/   \"\"\"\n",
    "#     split_t = new_ex.split('\\n')\n",
    "#     np_tracks = np.array([list(t) for t in split_t])\n",
    "    carts = np.array(np.where(np.isin(np_tracks, ['<', '>', '^', 'v']))).T\n",
    "    cart_moves = {'west': np.array([0, -1]),\n",
    "                  'east': np.array([0, 1]),\n",
    "                  'north': np.array([-1, 0]),\n",
    "                  'south': np.array([1, 0])}\n",
    "    cart_orientations = {'<': 'west',\n",
    "                         '>': 'east',\n",
    "                         '^': 'north',\n",
    "                         'v': 'south'}\n",
    "    cardinal_dirs = {'north': {'left': 'west', 'straight': 'north', 'right': 'east'},\n",
    "                     'south': {'left': 'east', 'straight': 'south', 'right': 'west'},\n",
    "                     'west': {'left': 'south', 'straight': 'west', 'right': 'north'},\n",
    "                     'east': {'left': 'north', 'straight': 'east', 'right': 'south'}}\n",
    "    current_orientations = np.array([cart_orientations[np_tracks[row, col]] for row, col in carts])\n",
    "    next_moves = np.array(['left' for _ in range(len(current_orientations))], dtype='<U8')\n",
    "    while True:\n",
    "        #import pdb; pdb.set_trace()\n",
    "        lexsorted = np.lexsort((carts[:, 1], carts[:, 0]))\n",
    "        carts = carts[lexsorted]\n",
    "        next_moves = next_moves[lexsorted]\n",
    "        current_orientations = current_orientations[lexsorted]\n",
    "        for i, cart in enumerate(carts):\n",
    "#             if np.all(carts[i] == np.array([17, 36])):\n",
    "#                 import pdb; pdb.set_trace()\n",
    "            carts[i] += cart_moves[current_orientations[i]]\n",
    "            #these_spots = [np_tracks[row, col] for row, col in carts]\n",
    "            spot = np_tracks[carts[i][0], carts[i][1]]\n",
    "            if len(carts) != len(np.unique(carts, axis=0)):\n",
    "                return carts\n",
    "            if spot == '+':\n",
    "                change_direction(i, next_moves, current_orientations)\n",
    "            elif spot == '\\\\':\n",
    "                if current_orientations[i] == 'west':\n",
    "                    new_orientation = 'north'\n",
    "                elif current_orientations[i] == 'east':\n",
    "                    new_orientation = 'south'\n",
    "                elif current_orientations[i] == 'north':\n",
    "                    new_orientation = 'west'\n",
    "                elif current_orientations[i] == 'south':\n",
    "                    new_orientation = 'east'\n",
    "                current_orientations[i] = new_orientation\n",
    "            elif spot == '/':\n",
    "                if current_orientations[i] == 'west':\n",
    "                    new_orientation = 'south'\n",
    "                elif current_orientations[i] == 'east':\n",
    "                    new_orientation = 'north'\n",
    "                elif current_orientations[i] == 'north':\n",
    "                    new_orientation = 'east'\n",
    "                elif current_orientations[i] == 'south':\n",
    "                    new_orientation = 'west'\n",
    "                current_orientations[i] = new_orientation\n",
    "            elif spot in '-|<>^v':\n",
    "                continue\n",
    "            else:\n",
    "                import pdb; pdb.set_trace()\n",
    "                return \"You screwed up in spots\"\n",
    "    return carts"
   ]
  },
  {
   "cell_type": "code",
   "execution_count": 386,
   "metadata": {
    "scrolled": true
   },
   "outputs": [
    {
     "data": {
      "text/plain": [
       "array([[  6, 107],\n",
       "       [ 16,  99],\n",
       "       [ 25,   4],\n",
       "       [ 32,  69],\n",
       "       [ 43, 143],\n",
       "       [ 43, 143],\n",
       "       [ 49,  83],\n",
       "       [ 55, 148],\n",
       "       [ 59,  43],\n",
       "       [ 64,  99],\n",
       "       [ 83, 107],\n",
       "       [103,  60],\n",
       "       [109,  98],\n",
       "       [118,  37],\n",
       "       [125, 104],\n",
       "       [128,  13],\n",
       "       [130,  41]])"
      ]
     },
     "execution_count": 386,
     "metadata": {},
     "output_type": "execute_result"
    }
   ],
   "source": [
    "find_crash()"
   ]
  },
  {
   "cell_type": "code",
   "execution_count": 316,
   "metadata": {},
   "outputs": [
    {
     "data": {
      "text/plain": [
       "'+'"
      ]
     },
     "execution_count": 316,
     "metadata": {},
     "output_type": "execute_result"
    }
   ],
   "source": [
    "np_tracks[18, 36]"
   ]
  },
  {
   "cell_type": "code",
   "execution_count": 158,
   "metadata": {},
   "outputs": [],
   "source": [
    "tem = [(row, col) for row, col in carts]"
   ]
  },
  {
   "cell_type": "code",
   "execution_count": 166,
   "metadata": {},
   "outputs": [
    {
     "data": {
      "text/plain": [
       "'+'"
      ]
     },
     "execution_count": 166,
     "metadata": {},
     "output_type": "execute_result"
    }
   ],
   "source": [
    "np_tracks[38, 92]"
   ]
  },
  {
   "cell_type": "code",
   "execution_count": 221,
   "metadata": {
    "collapsed": true
   },
   "outputs": [],
   "source": [
    "c = np.array([[4, 4], [0, 1], [2, 3]])"
   ]
  },
  {
   "cell_type": "code",
   "execution_count": 222,
   "metadata": {
    "collapsed": true
   },
   "outputs": [],
   "source": [
    "c.sort(axis=0)"
   ]
  },
  {
   "cell_type": "code",
   "execution_count": 223,
   "metadata": {},
   "outputs": [
    {
     "data": {
      "text/plain": [
       "array([[0, 1],\n",
       "       [2, 3],\n",
       "       [4, 4]])"
      ]
     },
     "execution_count": 223,
     "metadata": {},
     "output_type": "execute_result"
    }
   ],
   "source": [
    "c"
   ]
  },
  {
   "cell_type": "code",
   "execution_count": 134,
   "metadata": {},
   "outputs": [
    {
     "data": {
      "text/plain": [
       "False"
      ]
     },
     "execution_count": 134,
     "metadata": {},
     "output_type": "execute_result"
    }
   ],
   "source": [
    "len(c) == len(np.unique(c, axis=0))"
   ]
  },
  {
   "cell_type": "code",
   "execution_count": 135,
   "metadata": {},
   "outputs": [
    {
     "data": {
      "text/plain": [
       "2"
      ]
     },
     "execution_count": 135,
     "metadata": {},
     "output_type": "execute_result"
    }
   ],
   "source": [
    "len(np.unique(c, axis=0))"
   ]
  },
  {
   "cell_type": "code",
   "execution_count": 136,
   "metadata": {},
   "outputs": [
    {
     "data": {
      "text/plain": [
       "array([[ 0, -1],\n",
       "       [ 0, -1],\n",
       "       [-1,  0],\n",
       "       [ 0,  1],\n",
       "       [ 0,  1],\n",
       "       [ 0,  1],\n",
       "       [ 1,  0],\n",
       "       [ 0, -1],\n",
       "       [ 1,  0],\n",
       "       [ 0,  1],\n",
       "       [-1,  0],\n",
       "       [-1,  0],\n",
       "       [ 0,  1],\n",
       "       [ 0, -1],\n",
       "       [ 0,  1],\n",
       "       [ 0,  1],\n",
       "       [ 0, -1]])"
      ]
     },
     "execution_count": 136,
     "metadata": {},
     "output_type": "execute_result"
    }
   ],
   "source": [
    "np.array([cart_moves[pos] for pos in current_orientations])"
   ]
  },
  {
   "cell_type": "code",
   "execution_count": 137,
   "metadata": {},
   "outputs": [
    {
     "data": {
      "text/plain": [
       "array([[  1,  24],\n",
       "       [  9,  82],\n",
       "       [ 19, 122],\n",
       "       [ 22,  31],\n",
       "       [ 22,  61],\n",
       "       [ 37,  25],\n",
       "       [ 39,  28],\n",
       "       [ 46,  81],\n",
       "       [ 58, 134],\n",
       "       [ 83,  90],\n",
       "       [ 91, 147],\n",
       "       [103,  29],\n",
       "       [116,  76],\n",
       "       [123,  99],\n",
       "       [135,  79],\n",
       "       [139,  91],\n",
       "       [145,   3]])"
      ]
     },
     "execution_count": 137,
     "metadata": {},
     "output_type": "execute_result"
    }
   ],
   "source": [
    "carts"
   ]
  },
  {
   "cell_type": "code",
   "execution_count": 139,
   "metadata": {},
   "outputs": [
    {
     "data": {
      "text/plain": [
       "array([' ', '+', '-', '/', '<', '>', '\\\\', '^', 'v', '|'], dtype='<U1')"
      ]
     },
     "execution_count": 139,
     "metadata": {},
     "output_type": "execute_result"
    }
   ],
   "source": [
    "np.unique(np_tracks)"
   ]
  },
  {
   "cell_type": "code",
   "execution_count": 207,
   "metadata": {
    "collapsed": true
   },
   "outputs": [],
   "source": [
    "new_ex = \"\"\"/->-\\        \n",
    "|   |  /----\\\\\n",
    "| /-+--+-\\  |\n",
    "| | |  | v  |\n",
    "\\-+-/  \\-+--/\n",
    "  \\------/   \"\"\""
   ]
  },
  {
   "cell_type": "code",
   "execution_count": 208,
   "metadata": {},
   "outputs": [
    {
     "data": {
      "text/plain": [
       "'/->-\\\\        \\n|   |  /----\\\\\\n| /-+--+-\\\\  |\\n| | |  | v  |\\n\\\\-+-/  \\\\-+--/\\n  \\\\------/   '"
      ]
     },
     "execution_count": 208,
     "metadata": {},
     "output_type": "execute_result"
    }
   ],
   "source": [
    "new_ex"
   ]
  },
  {
   "cell_type": "code",
   "execution_count": 209,
   "metadata": {},
   "outputs": [],
   "source": [
    "split_t = new_ex.split('\\n')"
   ]
  },
  {
   "cell_type": "code",
   "execution_count": 210,
   "metadata": {},
   "outputs": [
    {
     "data": {
      "text/plain": [
       "[13, 13, 13, 13, 13, 13]"
      ]
     },
     "execution_count": 210,
     "metadata": {},
     "output_type": "execute_result"
    }
   ],
   "source": [
    "[len(x) for x in split_t]"
   ]
  },
  {
   "cell_type": "code",
   "execution_count": 213,
   "metadata": {},
   "outputs": [
    {
     "data": {
      "text/plain": [
       "array([['/', '-', '>', '-', '\\\\', ' ', ' ', ' ', ' ', ' ', ' ', ' ', ' '],\n",
       "       ['|', ' ', ' ', ' ', '|', ' ', ' ', '/', '-', '-', '-', '-', '\\\\'],\n",
       "       ['|', ' ', '/', '-', '+', '-', '-', '+', '-', '\\\\', ' ', ' ', '|'],\n",
       "       ['|', ' ', '|', ' ', '|', ' ', ' ', '|', ' ', 'v', ' ', ' ', '|'],\n",
       "       ['\\\\', '-', '+', '-', '/', ' ', ' ', '\\\\', '-', '+', '-', '-',\n",
       "        '/'],\n",
       "       [' ', ' ', '\\\\', '-', '-', '-', '-', '-', '-', '/', ' ', ' ', ' ']],\n",
       "      dtype='<U1')"
      ]
     },
     "execution_count": 213,
     "metadata": {},
     "output_type": "execute_result"
    }
   ],
   "source": [
    "np.array([list(t) for t in split_t])"
   ]
  },
  {
   "cell_type": "code",
   "execution_count": 226,
   "metadata": {},
   "outputs": [
    {
     "data": {
      "text/plain": [
       "array([[False, False],\n",
       "       [False, False],\n",
       "       [False, False],\n",
       "       [False, False],\n",
       "       [False, False],\n",
       "       [False, False],\n",
       "       [False, False],\n",
       "       [False, False],\n",
       "       [False, False],\n",
       "       [False, False],\n",
       "       [False, False],\n",
       "       [False, False],\n",
       "       [False, False],\n",
       "       [False, False],\n",
       "       [False, False],\n",
       "       [False, False],\n",
       "       [False, False]])"
      ]
     },
     "execution_count": 226,
     "metadata": {},
     "output_type": "execute_result"
    }
   ],
   "source": [
    "carts == fa.sort(axis=0)"
   ]
  },
  {
   "cell_type": "code",
   "execution_count": 227,
   "metadata": {},
   "outputs": [
    {
     "data": {
      "text/plain": [
       "array([[  1,   3],\n",
       "       [  9,  24],\n",
       "       [ 19,  25],\n",
       "       [ 22,  28],\n",
       "       [ 22,  29],\n",
       "       [ 37,  31],\n",
       "       [ 39,  61],\n",
       "       [ 46,  76],\n",
       "       [ 58,  79],\n",
       "       [ 83,  81],\n",
       "       [ 91,  82],\n",
       "       [103,  90],\n",
       "       [116,  91],\n",
       "       [123,  99],\n",
       "       [135, 122],\n",
       "       [139, 134],\n",
       "       [145, 147]])"
      ]
     },
     "execution_count": 227,
     "metadata": {},
     "output_type": "execute_result"
    }
   ],
   "source": [
    "fa"
   ]
  },
  {
   "cell_type": "code",
   "execution_count": 229,
   "metadata": {},
   "outputs": [
    {
     "data": {
      "text/plain": [
       "array([[ 0, 16],\n",
       "       [ 1,  0],\n",
       "       [ 2,  5],\n",
       "       [ 3,  6],\n",
       "       [ 4, 11],\n",
       "       [ 5,  3],\n",
       "       [ 6,  4],\n",
       "       [ 7, 12],\n",
       "       [ 8, 14],\n",
       "       [ 9,  7],\n",
       "       [10,  1],\n",
       "       [11,  9],\n",
       "       [12, 15],\n",
       "       [13, 13],\n",
       "       [14,  2],\n",
       "       [15,  8],\n",
       "       [16, 10]])"
      ]
     },
     "execution_count": 229,
     "metadata": {},
     "output_type": "execute_result"
    }
   ],
   "source": [
    "carts.argsort(axis=0)"
   ]
  },
  {
   "cell_type": "code",
   "execution_count": 230,
   "metadata": {},
   "outputs": [
    {
     "data": {
      "text/plain": [
       "array([[  1,  24],\n",
       "       [  9,  82],\n",
       "       [ 19, 122],\n",
       "       [ 22,  31],\n",
       "       [ 22,  61],\n",
       "       [ 37,  25],\n",
       "       [ 39,  28],\n",
       "       [ 46,  81],\n",
       "       [ 58, 134],\n",
       "       [ 83,  90],\n",
       "       [ 91, 147],\n",
       "       [103,  29],\n",
       "       [116,  76],\n",
       "       [123,  99],\n",
       "       [135,  79],\n",
       "       [139,  91],\n",
       "       [145,   3]])"
      ]
     },
     "execution_count": 230,
     "metadata": {},
     "output_type": "execute_result"
    }
   ],
   "source": [
    "carts"
   ]
  },
  {
   "cell_type": "code",
   "execution_count": 232,
   "metadata": {},
   "outputs": [
    {
     "data": {
      "text/plain": [
       "array([[  1,  24],\n",
       "       [  9,  82],\n",
       "       [ 19, 122],\n",
       "       [ 22,  31],\n",
       "       [ 22,  61],\n",
       "       [ 37,  25],\n",
       "       [ 39,  28],\n",
       "       [ 46,  81],\n",
       "       [ 58, 134],\n",
       "       [ 83,  90],\n",
       "       [ 91, 147],\n",
       "       [103,  29],\n",
       "       [116,  76],\n",
       "       [123,  99],\n",
       "       [135,  79],\n",
       "       [139,  91],\n",
       "       [145,   3]])"
      ]
     },
     "execution_count": 232,
     "metadata": {},
     "output_type": "execute_result"
    }
   ],
   "source": [
    "fa"
   ]
  },
  {
   "cell_type": "code",
   "execution_count": 235,
   "metadata": {},
   "outputs": [],
   "source": [
    "next_moves[[1,2, 3]] = np.array(['right', 'right', 'right'])"
   ]
  },
  {
   "cell_type": "code",
   "execution_count": 237,
   "metadata": {},
   "outputs": [
    {
     "data": {
      "text/plain": [
       "array(['right', 'right', 'left'], dtype='<U8')"
      ]
     },
     "execution_count": 237,
     "metadata": {},
     "output_type": "execute_result"
    }
   ],
   "source": [
    "next_moves[[2, 1, 0]]"
   ]
  },
  {
   "cell_type": "code",
   "execution_count": 247,
   "metadata": {
    "collapsed": true
   },
   "outputs": [],
   "source": [
    "argsorted = carts.argsort(axis=0)\n",
    "next_moves = next_moves[argsorted[:, 0]]"
   ]
  },
  {
   "cell_type": "code",
   "execution_count": 241,
   "metadata": {},
   "outputs": [
    {
     "data": {
      "text/plain": [
       "array(['left', 'right', 'right', 'right', 'left', 'left', 'left', 'left',\n",
       "       'left', 'left', 'left', 'left', 'left', 'left', 'left', 'left',\n",
       "       'left'], dtype='<U8')"
      ]
     },
     "execution_count": 241,
     "metadata": {},
     "output_type": "execute_result"
    }
   ],
   "source": [
    "next_moves"
   ]
  },
  {
   "cell_type": "code",
   "execution_count": 253,
   "metadata": {},
   "outputs": [],
   "source": [
    "np.random.shuffle(argsorted)"
   ]
  },
  {
   "cell_type": "code",
   "execution_count": 257,
   "metadata": {},
   "outputs": [
    {
     "data": {
      "text/plain": [
       "array(['right', 'left', 'left', 'left', 'left', 'left', 'left', 'right',\n",
       "       'right', 'left', 'left', 'left', 'left', 'left', 'left', 'left',\n",
       "       'left'], dtype='<U8')"
      ]
     },
     "execution_count": 257,
     "metadata": {},
     "output_type": "execute_result"
    }
   ],
   "source": [
    "next_moves[argsorted[:, 0]]"
   ]
  },
  {
   "cell_type": "code",
   "execution_count": 255,
   "metadata": {},
   "outputs": [
    {
     "data": {
      "text/plain": [
       "array([[ 2,  5],\n",
       "       [16, 10],\n",
       "       [10,  1],\n",
       "       [ 8, 14],\n",
       "       [ 4, 11],\n",
       "       [11,  9],\n",
       "       [ 0, 16],\n",
       "       [ 3,  6],\n",
       "       [ 1,  0],\n",
       "       [ 7, 12],\n",
       "       [ 9,  7],\n",
       "       [13, 13],\n",
       "       [12, 15],\n",
       "       [15,  8],\n",
       "       [ 6,  4],\n",
       "       [14,  2],\n",
       "       [ 5,  3]])"
      ]
     },
     "execution_count": 255,
     "metadata": {},
     "output_type": "execute_result"
    }
   ],
   "source": [
    "argsorted"
   ]
  },
  {
   "cell_type": "code",
   "execution_count": 263,
   "metadata": {},
   "outputs": [
    {
     "data": {
      "text/plain": [
       "array([[  1,  24],\n",
       "       [  9,  82],\n",
       "       [ 19, 122],\n",
       "       [ 22,  31],\n",
       "       [ 22,  61],\n",
       "       [ 37,  25],\n",
       "       [ 39,  28],\n",
       "       [ 46,  81],\n",
       "       [ 58, 134],\n",
       "       [ 83,  90],\n",
       "       [ 91, 147],\n",
       "       [103,  29],\n",
       "       [116,  76],\n",
       "       [123,  99],\n",
       "       [135,  79],\n",
       "       [139,  91],\n",
       "       [145,   3]])"
      ]
     },
     "execution_count": 263,
     "metadata": {},
     "output_type": "execute_result"
    }
   ],
   "source": [
    "carts"
   ]
  },
  {
   "cell_type": "code",
   "execution_count": 277,
   "metadata": {
    "collapsed": true
   },
   "outputs": [],
   "source": [
    "frind = carts.copy()"
   ]
  },
  {
   "cell_type": "code",
   "execution_count": 280,
   "metadata": {},
   "outputs": [
    {
     "data": {
      "text/plain": [
       "array([[ True,  True],\n",
       "       [ True,  True],\n",
       "       [ True,  True],\n",
       "       [ True,  True],\n",
       "       [ True,  True],\n",
       "       [ True,  True],\n",
       "       [ True,  True],\n",
       "       [ True,  True],\n",
       "       [ True,  True],\n",
       "       [ True,  True],\n",
       "       [ True,  True],\n",
       "       [ True,  True],\n",
       "       [ True,  True],\n",
       "       [ True,  True],\n",
       "       [ True,  True],\n",
       "       [ True,  True],\n",
       "       [ True,  True]])"
      ]
     },
     "execution_count": 280,
     "metadata": {},
     "output_type": "execute_result"
    }
   ],
   "source": [
    "frind[frind[:, 0].argsort()] == carts"
   ]
  },
  {
   "cell_type": "code",
   "execution_count": 276,
   "metadata": {},
   "outputs": [
    {
     "data": {
      "text/plain": [
       "array([[  1,  24],\n",
       "       [  9,  82],\n",
       "       [ 19, 122],\n",
       "       [ 22,  31],\n",
       "       [ 22,  61],\n",
       "       [ 37,  25],\n",
       "       [ 39,  28],\n",
       "       [ 46,  81],\n",
       "       [ 58, 134],\n",
       "       [ 83,  90],\n",
       "       [ 91, 147],\n",
       "       [103,  29],\n",
       "       [116,  76],\n",
       "       [123,  99],\n",
       "       [135,  79],\n",
       "       [139,  91],\n",
       "       [145,   3]])"
      ]
     },
     "execution_count": 276,
     "metadata": {},
     "output_type": "execute_result"
    }
   ],
   "source": [
    "carts"
   ]
  },
  {
   "cell_type": "code",
   "execution_count": 274,
   "metadata": {},
   "outputs": [
    {
     "data": {
      "text/plain": [
       "array([[  1,  24],\n",
       "       [  9,  82],\n",
       "       [ 19, 122],\n",
       "       [ 22,  31],\n",
       "       [ 22,  61],\n",
       "       [ 25,  37],\n",
       "       [ 28,  39],\n",
       "       [ 46,  81],\n",
       "       [ 58, 134],\n",
       "       [ 83,  90],\n",
       "       [ 91, 147],\n",
       "       [ 29, 103],\n",
       "       [ 76, 116],\n",
       "       [ 99, 123],\n",
       "       [ 79, 135],\n",
       "       [ 91, 139],\n",
       "       [  3, 145]])"
      ]
     },
     "execution_count": 274,
     "metadata": {},
     "output_type": "execute_result"
    }
   ],
   "source": [
    "frind"
   ]
  },
  {
   "cell_type": "code",
   "execution_count": 267,
   "metadata": {},
   "outputs": [
    {
     "data": {
      "text/plain": [
       "array([[  1,   3],\n",
       "       [  9,  24],\n",
       "       [ 19,  25],\n",
       "       [ 22,  28],\n",
       "       [ 22,  29],\n",
       "       [ 37,  31],\n",
       "       [ 39,  61],\n",
       "       [ 46,  76],\n",
       "       [ 58,  79],\n",
       "       [ 83,  81],\n",
       "       [ 91,  82],\n",
       "       [103,  90],\n",
       "       [116,  91],\n",
       "       [123,  99],\n",
       "       [135, 122],\n",
       "       [139, 134],\n",
       "       [145, 147]])"
      ]
     },
     "execution_count": 267,
     "metadata": {},
     "output_type": "execute_result"
    }
   ],
   "source": [
    "frind"
   ]
  },
  {
   "cell_type": "code",
   "execution_count": 287,
   "metadata": {
    "collapsed": true
   },
   "outputs": [],
   "source": [
    "argsorted = carts[:, 0].argsort()\n",
    "\n"
   ]
  },
  {
   "cell_type": "code",
   "execution_count": 288,
   "metadata": {},
   "outputs": [
    {
     "data": {
      "text/plain": [
       "array([ 0,  1,  2,  3,  4,  5,  6,  7,  8,  9, 10, 11, 12, 13, 14, 15, 16])"
      ]
     },
     "execution_count": 288,
     "metadata": {},
     "output_type": "execute_result"
    }
   ],
   "source": [
    "argsorted"
   ]
  },
  {
   "cell_type": "code",
   "execution_count": 289,
   "metadata": {
    "collapsed": true
   },
   "outputs": [],
   "source": [
    "carts = carts[argsorted]"
   ]
  },
  {
   "cell_type": "code",
   "execution_count": 290,
   "metadata": {},
   "outputs": [
    {
     "data": {
      "text/plain": [
       "array([[  1,  24],\n",
       "       [  9,  82],\n",
       "       [ 19, 122],\n",
       "       [ 22,  31],\n",
       "       [ 22,  61],\n",
       "       [ 37,  25],\n",
       "       [ 39,  28],\n",
       "       [ 46,  81],\n",
       "       [ 58, 134],\n",
       "       [ 83,  90],\n",
       "       [ 91, 147],\n",
       "       [103,  29],\n",
       "       [116,  76],\n",
       "       [123,  99],\n",
       "       [135,  79],\n",
       "       [139,  91],\n",
       "       [145,   3]])"
      ]
     },
     "execution_count": 290,
     "metadata": {},
     "output_type": "execute_result"
    }
   ],
   "source": [
    "carts"
   ]
  },
  {
   "cell_type": "code",
   "execution_count": 291,
   "metadata": {
    "collapsed": true
   },
   "outputs": [],
   "source": [
    "next_moves = next_moves[argsorted]"
   ]
  },
  {
   "cell_type": "code",
   "execution_count": 292,
   "metadata": {},
   "outputs": [
    {
     "data": {
      "text/plain": [
       "array(['left', 'right', 'right', 'right', 'left', 'left', 'left', 'left',\n",
       "       'left', 'left', 'left', 'left', 'left', 'left', 'left', 'left',\n",
       "       'left'], dtype='<U8')"
      ]
     },
     "execution_count": 292,
     "metadata": {},
     "output_type": "execute_result"
    }
   ],
   "source": [
    "next_moves"
   ]
  },
  {
   "cell_type": "code",
   "execution_count": 305,
   "metadata": {},
   "outputs": [
    {
     "data": {
      "text/plain": [
       "array([ True,  True])"
      ]
     },
     "execution_count": 305,
     "metadata": {},
     "output_type": "execute_result"
    }
   ],
   "source": [
    "carts[0] == np.array([1, 24])"
   ]
  },
  {
   "cell_type": "code",
   "execution_count": 367,
   "metadata": {},
   "outputs": [],
   "source": [
    "m = np.array([[1, 2], [1, 1], [0, 1], [0, 0]])"
   ]
  },
  {
   "cell_type": "code",
   "execution_count": 327,
   "metadata": {},
   "outputs": [
    {
     "data": {
      "text/plain": [
       "array([[0, 1],\n",
       "       [0, 0],\n",
       "       [1, 2],\n",
       "       [1, 1]])"
      ]
     },
     "execution_count": 327,
     "metadata": {},
     "output_type": "execute_result"
    }
   ],
   "source": [
    "m[m[:, 0].argsort()][]"
   ]
  },
  {
   "cell_type": "code",
   "execution_count": 330,
   "metadata": {},
   "outputs": [
    {
     "data": {
      "text/plain": [
       "array([[0, 0],\n",
       "       [0, 1],\n",
       "       [1, 1],\n",
       "       [1, 2]])"
      ]
     },
     "execution_count": 330,
     "metadata": {},
     "output_type": "execute_result"
    }
   ],
   "source": [
    "m[np.lexsort((m[:, 0], m[:, 1]))]"
   ]
  },
  {
   "cell_type": "code",
   "execution_count": 336,
   "metadata": {},
   "outputs": [
    {
     "data": {
      "text/plain": [
       "array([[0, 1],\n",
       "       [0, 0],\n",
       "       [1, 2],\n",
       "       [1, 1]])"
      ]
     },
     "execution_count": 336,
     "metadata": {},
     "output_type": "execute_result"
    }
   ],
   "source": [
    "m[m[:,0].argsort()]"
   ]
  },
  {
   "cell_type": "code",
   "execution_count": 340,
   "metadata": {},
   "outputs": [
    {
     "data": {
      "text/plain": [
       "array([[0, 0],\n",
       "       [0, 1],\n",
       "       [1, 1],\n",
       "       [1, 2]])"
      ]
     },
     "execution_count": 340,
     "metadata": {},
     "output_type": "execute_result"
    }
   ],
   "source": [
    "np.array(sorted(m, key=lambda x: (x[0], x[1])))"
   ]
  },
  {
   "cell_type": "code",
   "execution_count": 362,
   "metadata": {},
   "outputs": [
    {
     "data": {
      "text/plain": [
       "array([[(1, 1), (2, 2)],\n",
       "       [(1, 1), (1, 1)],\n",
       "       [(0, 0), (1, 1)],\n",
       "       [(0, 0), (0, 0)]], dtype=[('x', '<i8'), ('y', '<i8')])"
      ]
     },
     "execution_count": 362,
     "metadata": {},
     "output_type": "execute_result"
    }
   ],
   "source": [
    "m"
   ]
  },
  {
   "cell_type": "code",
   "execution_count": 343,
   "metadata": {},
   "outputs": [],
   "source": [
    "n = np.array([[0, 0], [0, 1], [1, 1], [1, 2]])"
   ]
  },
  {
   "cell_type": "code",
   "execution_count": 345,
   "metadata": {},
   "outputs": [
    {
     "data": {
      "text/plain": [
       "array([[1, 1],\n",
       "       [2, 1]])"
      ]
     },
     "execution_count": 345,
     "metadata": {},
     "output_type": "execute_result"
    }
   ],
   "source": [
    "np.argwhere(m == n)"
   ]
  },
  {
   "cell_type": "code",
   "execution_count": 358,
   "metadata": {},
   "outputs": [
    {
     "data": {
      "text/plain": [
       "array([[[(0, 0), (1, 1)],\n",
       "        [(0, 0), (0, 0)]],\n",
       "\n",
       "       [[(0, 0), (0, 0)],\n",
       "        [(1, 1), (1, 1)]],\n",
       "\n",
       "       [[(1, 1), (2, 2)],\n",
       "        [(0, 0), (1, 1)]],\n",
       "\n",
       "       [[(1, 1), (1, 1)],\n",
       "        [(1, 1), (2, 2)]]], dtype=[('x', '<i8'), ('y', '<i8')])"
      ]
     },
     "execution_count": 358,
     "metadata": {},
     "output_type": "execute_result"
    }
   ],
   "source": [
    "m[np.argsort(m, axis=0, order='x')]"
   ]
  },
  {
   "cell_type": "code",
   "execution_count": 350,
   "metadata": {},
   "outputs": [
    {
     "data": {
      "text/plain": [
       "dtype('int64')"
      ]
     },
     "execution_count": 350,
     "metadata": {},
     "output_type": "execute_result"
    }
   ],
   "source": [
    "m.dtype"
   ]
  },
  {
   "cell_type": "code",
   "execution_count": 368,
   "metadata": {},
   "outputs": [
    {
     "data": {
      "text/plain": [
       "array([3, 2, 1, 0])"
      ]
     },
     "execution_count": 368,
     "metadata": {},
     "output_type": "execute_result"
    }
   ],
   "source": [
    "np.lexsort((m[:, 0], m[:, 1]))"
   ]
  },
  {
   "cell_type": "code",
   "execution_count": 371,
   "metadata": {},
   "outputs": [],
   "source": [
    "np.random.shuffle(carts)"
   ]
  },
  {
   "cell_type": "code",
   "execution_count": 376,
   "metadata": {},
   "outputs": [
    {
     "data": {
      "text/plain": [
       "array([[  1,  24],\n",
       "       [  9,  82],\n",
       "       [ 19, 122],\n",
       "       [ 22,  31],\n",
       "       [ 22,  61],\n",
       "       [ 37,  25],\n",
       "       [ 39,  28],\n",
       "       [ 46,  81],\n",
       "       [ 58, 134],\n",
       "       [ 83,  90],\n",
       "       [ 91, 147],\n",
       "       [103,  29],\n",
       "       [116,  76],\n",
       "       [123,  99],\n",
       "       [135,  79],\n",
       "       [139,  91],\n",
       "       [145,   3]])"
      ]
     },
     "execution_count": 376,
     "metadata": {},
     "output_type": "execute_result"
    }
   ],
   "source": [
    "carts[np.lexsort((carts[:, 1], carts[:, 0]))]"
   ]
  },
  {
   "cell_type": "code",
   "execution_count": 383,
   "metadata": {},
   "outputs": [
    {
     "data": {
      "text/plain": [
       "array([[145,   3],\n",
       "       [ 91, 147],\n",
       "       [ 22,  31],\n",
       "       [ 39,  28],\n",
       "       [123,  99],\n",
       "       [  9,  82],\n",
       "       [ 22,  61],\n",
       "       [103,  29],\n",
       "       [ 37,  25],\n",
       "       [ 46,  81],\n",
       "       [ 83,  90],\n",
       "       [135,  79],\n",
       "       [ 58, 134],\n",
       "       [139,  91],\n",
       "       [116,  76],\n",
       "       [ 19, 122],\n",
       "       [  1,  24]])"
      ]
     },
     "execution_count": 383,
     "metadata": {},
     "output_type": "execute_result"
    }
   ],
   "source": [
    "carts"
   ]
  },
  {
   "cell_type": "code",
   "execution_count": 384,
   "metadata": {},
   "outputs": [
    {
     "data": {
      "text/plain": [
       "array(['left', 'right', 'right', 'right', 'left', 'left', 'left', 'left',\n",
       "       'left', 'left', 'left', 'left', 'left', 'left', 'left', 'left',\n",
       "       'left'], dtype='<U8')"
      ]
     },
     "execution_count": 384,
     "metadata": {},
     "output_type": "execute_result"
    }
   ],
   "source": [
    "next_moves"
   ]
  },
  {
   "cell_type": "code",
   "execution_count": 388,
   "metadata": {},
   "outputs": [
    {
     "data": {
      "text/plain": [
       "17"
      ]
     },
     "execution_count": 388,
     "metadata": {},
     "output_type": "execute_result"
    }
   ],
   "source": [
    "len(next_moves)"
   ]
  },
  {
   "cell_type": "code",
   "execution_count": 476,
   "metadata": {
    "collapsed": true
   },
   "outputs": [],
   "source": [
    "def find_last_cart():\n",
    "    tracks = read_input('input_13.txt', '\\n')[:-1]\n",
    "    listed = [[letter for letter in track] for track in tracks]\n",
    "    np_tracks = np.array(listed)\n",
    "    carts = np.array(np.where(np.isin(np_tracks, ['<', '>', '^', 'v']))).T\n",
    "    cart_moves = {'west': np.array([0, -1]),\n",
    "                  'east': np.array([0, 1]),\n",
    "                  'north': np.array([-1, 0]),\n",
    "                  'south': np.array([1, 0])}\n",
    "    cart_orientations = {'<': 'west',\n",
    "                         '>': 'east',\n",
    "                         '^': 'north',\n",
    "                         'v': 'south'}\n",
    "    cardinal_dirs = {'north': {'left': 'west', 'straight': 'north', 'right': 'east'},\n",
    "                     'south': {'left': 'east', 'straight': 'south', 'right': 'west'},\n",
    "                     'west': {'left': 'south', 'straight': 'west', 'right': 'north'},\n",
    "                     'east': {'left': 'north', 'straight': 'east', 'right': 'south'}}\n",
    "    current_orientations = np.array([cart_orientations[np_tracks[row, col]] for row, col in carts])\n",
    "    next_moves = np.array(['left' for _ in range(len(current_orientations))], dtype='<U8')\n",
    "    while True:\n",
    "        lexsorted = np.lexsort((carts[:, 1], carts[:, 0]))\n",
    "        carts = carts[lexsorted]\n",
    "        next_moves = next_moves[lexsorted]\n",
    "        current_orientations = current_orientations[lexsorted]\n",
    "        diff = False\n",
    "        for i, cart in enumerate(carts):\n",
    "            carts[i] += cart_moves[current_orientations[i]]\n",
    "            spot = np_tracks[carts[i][0], carts[i][1]]\n",
    "            if len(carts) != len(np.unique(carts, axis=0)):\n",
    "                diff = True\n",
    "                uniques, counts = np.unique(carts, axis=0, return_counts=True)\n",
    "                unique_row = uniques[counts == 2].flatten()\n",
    "                mask = np.all(carts==unique_row, axis=1)\n",
    "            if spot == '+':\n",
    "                change_direction(i, next_moves, current_orientations)\n",
    "            elif spot == '\\\\':\n",
    "                if current_orientations[i] == 'west':\n",
    "                    new_orientation = 'north'\n",
    "                elif current_orientations[i] == 'east':\n",
    "                    new_orientation = 'south'\n",
    "                elif current_orientations[i] == 'north':\n",
    "                    new_orientation = 'west'\n",
    "                elif current_orientations[i] == 'south':\n",
    "                    new_orientation = 'east'\n",
    "                current_orientations[i] = new_orientation\n",
    "            elif spot == '/':\n",
    "                if current_orientations[i] == 'west':\n",
    "                    new_orientation = 'south'\n",
    "                elif current_orientations[i] == 'east':\n",
    "                    new_orientation = 'north'\n",
    "                elif current_orientations[i] == 'north':\n",
    "                    new_orientation = 'east'\n",
    "                elif current_orientations[i] == 'south':\n",
    "                    new_orientation = 'west'\n",
    "                current_orientations[i] = new_orientation\n",
    "            elif spot in '-|<>^v':\n",
    "                continue\n",
    "            else:\n",
    "                return \"You screwed up in spots\"\n",
    "        if diff:\n",
    "            diff = False\n",
    "            #import pdb; pdb.set_trace()\n",
    "            carts = carts[~mask]\n",
    "            next_moves = next_moves[~mask]\n",
    "            current_orientations = current_orientations[~mask]\n",
    "            print(f\"remaining carts is {len(carts)}\")\n",
    "            if len(carts) == 1:\n",
    "                return carts\n",
    "    return carts"
   ]
  },
  {
   "cell_type": "code",
   "execution_count": 477,
   "metadata": {},
   "outputs": [
    {
     "name": "stdout",
     "output_type": "stream",
     "text": [
      "remaining carts is 15\n",
      "remaining carts is 13\n",
      "remaining carts is 11\n",
      "remaining carts is 9\n",
      "remaining carts is 7\n",
      "remaining carts is 5\n",
      "remaining carts is 3\n",
      "remaining carts is 1\n"
     ]
    },
    {
     "data": {
      "text/plain": [
       "array([[125, 116]])"
      ]
     },
     "execution_count": 477,
     "metadata": {},
     "output_type": "execute_result"
    }
   ],
   "source": [
    "find_last_cart()"
   ]
  },
  {
   "cell_type": "code",
   "execution_count": 397,
   "metadata": {},
   "outputs": [
    {
     "data": {
      "text/plain": [
       "array([[False, False],\n",
       "       [False,  True],\n",
       "       [ True,  True],\n",
       "       [ True, False]])"
      ]
     },
     "execution_count": 397,
     "metadata": {},
     "output_type": "execute_result"
    }
   ],
   "source": [
    "m == m[2, :]"
   ]
  },
  {
   "cell_type": "code",
   "execution_count": 399,
   "metadata": {},
   "outputs": [
    {
     "ename": "IndexError",
     "evalue": "index 4 is out of bounds for axis 0 with size 4",
     "output_type": "error",
     "traceback": [
      "\u001b[0;31m---------------------------------------------------------------------------\u001b[0m",
      "\u001b[0;31mIndexError\u001b[0m                                Traceback (most recent call last)",
      "\u001b[0;32m<ipython-input-399-1a55009d408b>\u001b[0m in \u001b[0;36m<module>\u001b[0;34m()\u001b[0m\n\u001b[0;32m----> 1\u001b[0;31m \u001b[0mm\u001b[0m\u001b[0;34m[\u001b[0m\u001b[0;36m4\u001b[0m\u001b[0;34m,\u001b[0m \u001b[0;34m:\u001b[0m\u001b[0;34m]\u001b[0m \u001b[0;34m=\u001b[0m \u001b[0mnp\u001b[0m\u001b[0;34m.\u001b[0m\u001b[0marray\u001b[0m\u001b[0;34m(\u001b[0m\u001b[0;34m[\u001b[0m\u001b[0;36m1\u001b[0m\u001b[0;34m,\u001b[0m \u001b[0;36m1\u001b[0m\u001b[0;34m]\u001b[0m\u001b[0;34m)\u001b[0m\u001b[0;34m\u001b[0m\u001b[0m\n\u001b[0m",
      "\u001b[0;31mIndexError\u001b[0m: index 4 is out of bounds for axis 0 with size 4"
     ]
    }
   ],
   "source": [
    "m[4, :] = np.array([1, 1])"
   ]
  },
  {
   "cell_type": "code",
   "execution_count": 406,
   "metadata": {},
   "outputs": [],
   "source": [
    "m = m.tolist()"
   ]
  },
  {
   "cell_type": "code",
   "execution_count": 407,
   "metadata": {},
   "outputs": [],
   "source": [
    "m.append([1, 1])"
   ]
  },
  {
   "cell_type": "code",
   "execution_count": 408,
   "metadata": {
    "collapsed": true
   },
   "outputs": [],
   "source": [
    "m = np.array(m)"
   ]
  },
  {
   "cell_type": "code",
   "execution_count": 409,
   "metadata": {},
   "outputs": [
    {
     "data": {
      "text/plain": [
       "array([[1, 2],\n",
       "       [1, 1],\n",
       "       [0, 1],\n",
       "       [0, 0],\n",
       "       [1, 1]])"
      ]
     },
     "execution_count": 409,
     "metadata": {},
     "output_type": "execute_result"
    }
   ],
   "source": [
    "m"
   ]
  },
  {
   "cell_type": "code",
   "execution_count": 419,
   "metadata": {},
   "outputs": [],
   "source": [
    "counts = np.unique(m, return_counts=True, axis=0)"
   ]
  },
  {
   "cell_type": "code",
   "execution_count": 420,
   "metadata": {
    "collapsed": true
   },
   "outputs": [],
   "source": [
    "dup = counts[0][counts[1] == 2]"
   ]
  },
  {
   "cell_type": "code",
   "execution_count": 421,
   "metadata": {},
   "outputs": [
    {
     "data": {
      "text/plain": [
       "array([[1, 1]])"
      ]
     },
     "execution_count": 421,
     "metadata": {},
     "output_type": "execute_result"
    }
   ],
   "source": [
    "dup"
   ]
  },
  {
   "cell_type": "code",
   "execution_count": 417,
   "metadata": {},
   "outputs": [
    {
     "data": {
      "text/plain": [
       "array([False, False,  True, False])"
      ]
     },
     "execution_count": 417,
     "metadata": {},
     "output_type": "execute_result"
    }
   ],
   "source": [
    "counts == 2"
   ]
  },
  {
   "cell_type": "code",
   "execution_count": 428,
   "metadata": {},
   "outputs": [
    {
     "name": "stderr",
     "output_type": "stream",
     "text": [
      "/home/kurtrm/anaconda/lib/python3.6/site-packages/ipykernel_launcher.py:1: DeprecationWarning: elementwise == comparison failed; this will raise an error in the future.\n",
      "  \"\"\"Entry point for launching an IPython kernel.\n"
     ]
    },
    {
     "data": {
      "text/plain": [
       "(array([], dtype=int64),)"
      ]
     },
     "execution_count": 428,
     "metadata": {},
     "output_type": "execute_result"
    }
   ],
   "source": [
    "np.where(counts == dup.flatten())"
   ]
  },
  {
   "cell_type": "code",
   "execution_count": 425,
   "metadata": {},
   "outputs": [
    {
     "data": {
      "text/plain": [
       "array([1, 1])"
      ]
     },
     "execution_count": 425,
     "metadata": {},
     "output_type": "execute_result"
    }
   ],
   "source": [
    "dup.flatten()"
   ]
  },
  {
   "cell_type": "code",
   "execution_count": 426,
   "metadata": {},
   "outputs": [
    {
     "name": "stderr",
     "output_type": "stream",
     "text": [
      "/home/kurtrm/anaconda/lib/python3.6/site-packages/ipykernel_launcher.py:1: DeprecationWarning: elementwise == comparison failed; this will raise an error in the future.\n",
      "  \"\"\"Entry point for launching an IPython kernel.\n"
     ]
    },
    {
     "data": {
      "text/plain": [
       "False"
      ]
     },
     "execution_count": 426,
     "metadata": {},
     "output_type": "execute_result"
    }
   ],
   "source": [
    "counts == dup.flatten()"
   ]
  },
  {
   "cell_type": "code",
   "execution_count": 429,
   "metadata": {},
   "outputs": [
    {
     "data": {
      "text/plain": [
       "array([[1, 1]])"
      ]
     },
     "execution_count": 429,
     "metadata": {},
     "output_type": "execute_result"
    }
   ],
   "source": [
    "dup"
   ]
  },
  {
   "cell_type": "code",
   "execution_count": 430,
   "metadata": {},
   "outputs": [
    {
     "name": "stderr",
     "output_type": "stream",
     "text": [
      "/home/kurtrm/anaconda/lib/python3.6/site-packages/ipykernel_launcher.py:1: DeprecationWarning: elementwise == comparison failed; this will raise an error in the future.\n",
      "  \"\"\"Entry point for launching an IPython kernel.\n"
     ]
    },
    {
     "data": {
      "text/plain": [
       "False"
      ]
     },
     "execution_count": 430,
     "metadata": {},
     "output_type": "execute_result"
    }
   ],
   "source": [
    "counts == dup.flatten()"
   ]
  },
  {
   "cell_type": "code",
   "execution_count": 434,
   "metadata": {},
   "outputs": [
    {
     "data": {
      "text/plain": [
       "(array([[0, 0],\n",
       "        [0, 1],\n",
       "        [1, 1],\n",
       "        [1, 2]]), array([1, 1, 2, 1]))"
      ]
     },
     "execution_count": 434,
     "metadata": {},
     "output_type": "execute_result"
    }
   ],
   "source": [
    "counts"
   ]
  },
  {
   "cell_type": "code",
   "execution_count": 435,
   "metadata": {
    "collapsed": true
   },
   "outputs": [],
   "source": [
    "a = np.array([[1,2,3],[4,5,6],[7,8,9]])\n",
    "b = np.array([4,5,6])"
   ]
  },
  {
   "cell_type": "code",
   "execution_count": 436,
   "metadata": {
    "collapsed": true
   },
   "outputs": [],
   "source": [
    "result = np.all(a==b, axis=1)"
   ]
  },
  {
   "cell_type": "code",
   "execution_count": 437,
   "metadata": {},
   "outputs": [
    {
     "data": {
      "text/plain": [
       "array([False,  True, False])"
      ]
     },
     "execution_count": 437,
     "metadata": {},
     "output_type": "execute_result"
    }
   ],
   "source": [
    "result"
   ]
  },
  {
   "cell_type": "code",
   "execution_count": 471,
   "metadata": {},
   "outputs": [
    {
     "data": {
      "text/plain": [
       "array([[1, 1],\n",
       "       [1, 1]])"
      ]
     },
     "execution_count": 471,
     "metadata": {},
     "output_type": "execute_result"
    }
   ],
   "source": [
    "m[np.all(m==dup.flatten(), axis=1)]"
   ]
  },
  {
   "cell_type": "code",
   "execution_count": 442,
   "metadata": {},
   "outputs": [
    {
     "data": {
      "text/plain": [
       "array([1, 1])"
      ]
     },
     "execution_count": 442,
     "metadata": {},
     "output_type": "execute_result"
    }
   ],
   "source": [
    "dup.flatten()"
   ]
  },
  {
   "cell_type": "code",
   "execution_count": 446,
   "metadata": {},
   "outputs": [
    {
     "data": {
      "text/plain": [
       "' '"
      ]
     },
     "execution_count": 446,
     "metadata": {},
     "output_type": "execute_result"
    }
   ],
   "source": [
    "np_tracks[0, 0]"
   ]
  },
  {
   "cell_type": "code",
   "execution_count": 448,
   "metadata": {},
   "outputs": [
    {
     "data": {
      "text/plain": [
       "array([ True,  True])"
      ]
     },
     "execution_count": 448,
     "metadata": {},
     "output_type": "execute_result"
    }
   ],
   "source": [
    "np.array([0, 0]) == np.array([0, 0])"
   ]
  },
  {
   "cell_type": "code",
   "execution_count": null,
   "metadata": {
    "collapsed": true
   },
   "outputs": [],
   "source": []
  }
 ],
 "metadata": {
  "kernelspec": {
   "display_name": "Python 3",
   "language": "python",
   "name": "python3"
  },
  "language_info": {
   "codemirror_mode": {
    "name": "ipython",
    "version": 3
   },
   "file_extension": ".py",
   "mimetype": "text/x-python",
   "name": "python",
   "nbconvert_exporter": "python",
   "pygments_lexer": "ipython3",
   "version": "3.6.4"
  }
 },
 "nbformat": 4,
 "nbformat_minor": 2
}
