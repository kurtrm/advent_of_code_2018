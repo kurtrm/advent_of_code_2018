{
 "cells": [
  {
   "cell_type": "code",
   "execution_count": 2,
   "metadata": {
    "collapsed": true
   },
   "outputs": [],
   "source": [
    "import numpy as np\n",
    "import scipy.stats as scs\n",
    "import matplotlib.pyplot as plt\n",
    "import pandas as pd\n",
    "%matplotlib inline\n",
    "from IPython.core.interactiveshell import InteractiveShell\n",
    "InteractiveShell.ast_node_interactivity = 'all'"
   ]
  },
  {
   "cell_type": "markdown",
   "metadata": {},
   "source": [
    "\n",
    "- Find the fuel cell's rack ID, which is its X coordinate plus 10.\n",
    "- Begin with a power level of the rack ID times the Y coordinate.\n",
    "- Increase the power level by the value of the grid serial number (your puzzle input).\n",
    "- Set the power level to itself multiplied by the rack ID.\n",
    "- Keep only the hundreds digit of the power level (so 12345 becomes 3; numbers with no hundreds digit become 0).\n",
    "- Subtract 5 from the power level."
   ]
  },
  {
   "cell_type": "markdown",
   "metadata": {},
   "source": [
    "For example, to find the power level of the fuel cell at 3,5 in a grid with serial number 8:\n",
    "\n",
    "- The rack ID is 3 + 10 = 13.\n",
    "- The power level starts at 13 * 5 = 65.\n",
    "- Adding the serial number produces 65 + 8 = 73.\n",
    "- Multiplying by the rack ID produces 73 * 13 = 949.\n",
    "- The hundreds digit of 949 is 9.\n",
    "- Subtracting 5 produces 9 - 5 = 4.\n",
    "- So, the power level of this fuel cell is 4.\n",
    "\n",
    "grid serial number = 8979"
   ]
  },
  {
   "cell_type": "code",
   "execution_count": 45,
   "metadata": {
    "collapsed": true
   },
   "outputs": [],
   "source": [
    "def construct_power_grid(grid_serial_number):\n",
    "    \"\"\"\n",
    "    \"\"\"\n",
    "    grid = np.zeros((300, 300))\n",
    "    for x_idx in range(300):\n",
    "        x = x_idx + 1\n",
    "        rack_id = x + 10\n",
    "        for y_idx in range(300):\n",
    "            y = y_idx + 1\n",
    "            power_level = rack_id * y\n",
    "            power_level += grid_serial_number\n",
    "            power_level = power_level * rack_id\n",
    "            power_level = int(str(power_level)[-3])\n",
    "            power_level -= 5\n",
    "            grid[y_idx, x_idx] = power_level\n",
    "    return grid"
   ]
  },
  {
   "cell_type": "code",
   "execution_count": 42,
   "metadata": {
    "collapsed": true
   },
   "outputs": [],
   "source": [
    "def find_highest_3x3(grid):\n",
    "    \"\"\"\n",
    "    \"\"\"\n",
    "    y_s = 0\n",
    "    y_e = 3\n",
    "    x_s = 0\n",
    "    x_e = 3\n",
    "    highest_sum = 0\n",
    "    top_left = 0, 0\n",
    "    for y_i in range(298):\n",
    "        for x_i in range(298):\n",
    "            three_grid = grid[y_s+y_i:y_e+y_i, x_s+x_i:x_e+x_i]\n",
    "            three_sum = three_grid.sum()\n",
    "            if three_sum > highest_sum:\n",
    "                highest_sum = three_sum\n",
    "                top_left = (x_s+x_i+1, y_s+y_i+1)\n",
    "    return top_left\n",
    "            \n",
    "            \n",
    "        "
   ]
  },
  {
   "cell_type": "code",
   "execution_count": 43,
   "metadata": {},
   "outputs": [
    {
     "data": {
      "text/plain": [
       "(33, 34)"
      ]
     },
     "execution_count": 43,
     "metadata": {},
     "output_type": "execute_result"
    }
   ],
   "source": [
    "find_highest_3x3(grid)"
   ]
  },
  {
   "cell_type": "code",
   "execution_count": 59,
   "metadata": {
    "collapsed": true
   },
   "outputs": [],
   "source": [
    "grid = construct_power_grid(8979)"
   ]
  },
  {
   "cell_type": "code",
   "execution_count": 60,
   "metadata": {
    "collapsed": true
   },
   "outputs": [],
   "source": [
    "def find_highest_square(grid):\n",
    "    \"\"\"\n",
    "    \"\"\"\n",
    "    highest_sum = 0\n",
    "    top_left = 0, 0\n",
    "    top_dim = 0\n",
    "    for dim in range(1, 301):\n",
    "        if dim % 10 == 0:\n",
    "            print(\"Calculating {} dimensions\".format(dim))\n",
    "        for y_i in range(301-dim):\n",
    "            for x_i in range(301-dim):\n",
    "                square = grid[y_i:y_i+dim, x_i:x_i+dim]\n",
    "                square_sum = square.sum()\n",
    "                if square_sum > highest_sum:\n",
    "                    highest_sum = square_sum\n",
    "                    top_left = (x_i+1, y_i+1)\n",
    "                    top_dim = dim\n",
    "    return top_left, top_dim"
   ]
  },
  {
   "cell_type": "code",
   "execution_count": 61,
   "metadata": {},
   "outputs": [
    {
     "name": "stdout",
     "output_type": "stream",
     "text": [
      "Calculating 10 dimensions\n",
      "Calculating 20 dimensions\n",
      "Calculating 30 dimensions\n",
      "Calculating 40 dimensions\n",
      "Calculating 50 dimensions\n",
      "Calculating 60 dimensions\n",
      "Calculating 70 dimensions\n",
      "Calculating 80 dimensions\n",
      "Calculating 90 dimensions\n",
      "Calculating 100 dimensions\n",
      "Calculating 110 dimensions\n",
      "Calculating 120 dimensions\n",
      "Calculating 130 dimensions\n",
      "Calculating 140 dimensions\n",
      "Calculating 150 dimensions\n",
      "Calculating 160 dimensions\n",
      "Calculating 170 dimensions\n",
      "Calculating 180 dimensions\n",
      "Calculating 190 dimensions\n",
      "Calculating 200 dimensions\n",
      "Calculating 210 dimensions\n",
      "Calculating 220 dimensions\n",
      "Calculating 230 dimensions\n",
      "Calculating 240 dimensions\n",
      "Calculating 250 dimensions\n",
      "Calculating 260 dimensions\n",
      "Calculating 270 dimensions\n",
      "Calculating 280 dimensions\n",
      "Calculating 290 dimensions\n",
      "Calculating 300 dimensions\n"
     ]
    },
    {
     "data": {
      "text/plain": [
       "((235, 118), 14)"
      ]
     },
     "execution_count": 61,
     "metadata": {},
     "output_type": "execute_result"
    }
   ],
   "source": [
    "find_highest_square(grid)"
   ]
  },
  {
   "cell_type": "code",
   "execution_count": null,
   "metadata": {
    "collapsed": true
   },
   "outputs": [],
   "source": []
  }
 ],
 "metadata": {
  "kernelspec": {
   "display_name": "Python 3",
   "language": "python",
   "name": "python3"
  },
  "language_info": {
   "codemirror_mode": {
    "name": "ipython",
    "version": 3
   },
   "file_extension": ".py",
   "mimetype": "text/x-python",
   "name": "python",
   "nbconvert_exporter": "python",
   "pygments_lexer": "ipython3",
   "version": "3.6.4"
  }
 },
 "nbformat": 4,
 "nbformat_minor": 2
}
