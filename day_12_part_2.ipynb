{
 "cells": [
  {
   "cell_type": "code",
   "execution_count": 1,
   "metadata": {
    "collapsed": true
   },
   "outputs": [],
   "source": [
    "import numpy as np\n",
    "import scipy.stats as scs\n",
    "import matplotlib.pyplot as plt\n",
    "import pandas as pd\n",
    "%matplotlib inline\n",
    "from IPython.core.interactiveshell import InteractiveShell\n",
    "InteractiveShell.ast_node_interactivity = 'all'"
   ]
  },
  {
   "cell_type": "code",
   "execution_count": 2,
   "metadata": {
    "collapsed": true
   },
   "outputs": [],
   "source": [
    "class Node:\n",
    "    def __init__(self, val):\n",
    "        self.val = val\n",
    "        self.left = None\n",
    "        self.right = None"
   ]
  },
  {
   "cell_type": "code",
   "execution_count": 3,
   "metadata": {
    "collapsed": true
   },
   "outputs": [],
   "source": [
    "def create_ll(stringy):\n",
    "    prev_node = None\n",
    "    for letter in stringy:\n",
    "        node = Node(letter)\n",
    "        node.left = prev_node\n",
    "        try:\n",
    "            node.left.right = node\n",
    "        except AttributeError:\n",
    "            pass\n",
    "        prev_node = node\n",
    "    return prev_node"
   ]
  },
  {
   "cell_type": "code",
   "execution_count": 4,
   "metadata": {
    "collapsed": true
   },
   "outputs": [],
   "source": [
    "initial_state = '....................##...#...###.#.#..#...##.###..###....#.#.###.#..#....#..#......##..###.##..#.##..##..#..#.##.####.##........................................'"
   ]
  },
  {
   "cell_type": "code",
   "execution_count": 28,
   "metadata": {
    "collapsed": true
   },
   "outputs": [],
   "source": [
    "combos = {'#####': '.',\n",
    " '####.': '#',\n",
    " '###.#': '#',\n",
    " '###..': '.',\n",
    " '##.##': '.',\n",
    " '##.#.': '.',\n",
    " '##..#': '#',\n",
    " '##...': '#',\n",
    " '#.###': '.',\n",
    " '#.##.': '#',\n",
    " '#.#.#': '#',\n",
    " '#.#..': '.',\n",
    " '#..##': '#',\n",
    " '#..#.': '.',\n",
    " '#...#': '#',\n",
    " '#....': '.',\n",
    " '.####': '#',\n",
    " '.###.': '#',\n",
    " '.##.#': '#',\n",
    " '.##..': '.',\n",
    " '.#.##': '#',\n",
    " '.#.#.': '.',\n",
    " '.#..#': '#',\n",
    " '.#...': '#',\n",
    " '..###': '.',\n",
    " '..##.': '#',\n",
    " '..#.#': '.',\n",
    " '..#..': '.',\n",
    " '...##': '#',\n",
    " '...#.': '.',\n",
    " '....#': '.',\n",
    " '.....': '.'}"
   ]
  },
  {
   "cell_type": "code",
   "execution_count": 5,
   "metadata": {
    "collapsed": true
   },
   "outputs": [],
   "source": [
    "bottom_node = create_ll(initial_state)"
   ]
  },
  {
   "cell_type": "code",
   "execution_count": 20,
   "metadata": {},
   "outputs": [
    {
     "data": {
      "text/plain": [
       "True"
      ]
     },
     "execution_count": 20,
     "metadata": {},
     "output_type": "execute_result"
    }
   ],
   "source": [
    "checked = []\n",
    "node = bottom_node\n",
    "while node is not None:\n",
    "    checked.append(node.val)\n",
    "    node = node.left\n",
    "initial_state == ''.join(list(reversed(checked)))"
   ]
  },
  {
   "cell_type": "code",
   "execution_count": 22,
   "metadata": {},
   "outputs": [],
   "source": [
    "def prepend(node):\n",
    "    new_head = Node('.')\n",
    "    new_head.right = Node('.')\n",
    "    new_head.right.left = new_head\n",
    "    new_head.right.right = node\n",
    "    node.left = new_head.right\n",
    "    return new_head"
   ]
  },
  {
   "cell_type": "code",
   "execution_count": 23,
   "metadata": {
    "collapsed": true
   },
   "outputs": [],
   "source": [
    "def append(node):\n",
    "    new_tail = Node('.')\n",
    "    new_tail.left = Node('.')\n",
    "    new_tail.left.right = new_tail\n",
    "    node.right = new_tail.left\n",
    "    new_tail.left.left = node\n",
    "    return new_tail"
   ]
  },
  {
   "cell_type": "code",
   "execution_count": 40,
   "metadata": {
    "collapsed": true
   },
   "outputs": [],
   "source": [
    "def go_to_end(node):\n",
    "    if node.right is None:\n",
    "        while node.left is not None:\n",
    "            node = node.left\n",
    "    return node"
   ]
  },
  {
   "cell_type": "code",
   "execution_count": 93,
   "metadata": {},
   "outputs": [],
   "source": [
    "def get_generation(combos, initial_state, num_gens):\n",
    "    pres = 20\n",
    "    node = create_ll(initial_state)\n",
    "    node = go_to_end(node)\n",
    "    for epoch in range(4, num_gens):\n",
    "        node = prepend(node)\n",
    "        c, r1, r2 = node, node.right, node.right.right\n",
    "        lookup = '..' + c.val + r1.val + r2.val\n",
    "        c.val = combos[lookup]\n",
    "        l1, c, r1, r2 = c, r1, r2, r2.right\n",
    "        if r2 is None:\n",
    "            import pdb; pdb.set_trace()\n",
    "        lookup = lookup[1:] + r2.val\n",
    "        c.val = combos[lookup]\n",
    "        while r2.right is not None:\n",
    "            l2, l1, c, r1, r2 = l1, c, r1, r2, r2.right\n",
    "            lookup = lookup[1:] + r2.val\n",
    "            c.val = combos[lookup]\n",
    "        lookup = lookup[1:] + '.'\n",
    "        r1.val = combos[lookup]\n",
    "        lookup = lookup[2:] + '..'\n",
    "        r2.val = combos[lookup]\n",
    "        append(r2)\n",
    "        pres += 2\n",
    "        stringy = ''\n",
    "    while node is not None:\n",
    "        stringy += node.val\n",
    "        node = node.right\n",
    "    yield sum([i for i, pound in enumerate(stringy, -pres) if pound == \"#\"])"
   ]
  },
  {
   "cell_type": "code",
   "execution_count": 94,
   "metadata": {},
   "outputs": [],
   "source": [
    "mine = get_generation(combos, initial_state, 2005)"
   ]
  },
  {
   "cell_type": "code",
   "execution_count": 95,
   "metadata": {},
   "outputs": [],
   "source": [
    "all_mine = [x for x in mine]"
   ]
  },
  {
   "cell_type": "code",
   "execution_count": 98,
   "metadata": {},
   "outputs": [
    {
     "data": {
      "text/plain": [
       "1"
      ]
     },
     "execution_count": 98,
     "metadata": {},
     "output_type": "execute_result"
    }
   ],
   "source": []
  },
  {
   "cell_type": "code",
   "execution_count": 17,
   "metadata": {
    "collapsed": true
   },
   "outputs": [],
   "source": [
    "new_state = ''.join(list(reversed(checked)))"
   ]
  },
  {
   "cell_type": "code",
   "execution_count": 18,
   "metadata": {},
   "outputs": [
    {
     "data": {
      "text/plain": [
       "'....................##...#...###.#.#..#...##.###..###....#.#.###.#..#....#..#......##..###.##..#.##..##..#..#.##.####.##........................................'"
      ]
     },
     "execution_count": 18,
     "metadata": {},
     "output_type": "execute_result"
    }
   ],
   "source": [
    "new_state"
   ]
  },
  {
   "cell_type": "code",
   "execution_count": 59,
   "metadata": {},
   "outputs": [
    {
     "data": {
      "text/plain": [
       "3396"
      ]
     },
     "execution_count": 59,
     "metadata": {},
     "output_type": "execute_result"
    }
   ],
   "source": [
    "sum([i for i, pound in enumerate(app, -58) if pound == '#'])"
   ]
  },
  {
   "cell_type": "code",
   "execution_count": 48,
   "metadata": {},
   "outputs": [
    {
     "data": {
      "text/plain": [
       "'..............................................................###.##.##.##.##.##.##.#.#..#..##.##.####.##..##.##.##.##.##.##.##.##.##.##.##.#..#..#..#..#..#..#..#..#..#..#..#..#..#............................................................'"
      ]
     },
     "execution_count": 48,
     "metadata": {},
     "output_type": "execute_result"
    }
   ],
   "source": [
    "app"
   ]
  },
  {
   "cell_type": "code",
   "execution_count": 60,
   "metadata": {},
   "outputs": [
    {
     "data": {
      "text/plain": [
       "20"
      ]
     },
     "execution_count": 60,
     "metadata": {},
     "output_type": "execute_result"
    }
   ],
   "source": [
    "len('....................')"
   ]
  },
  {
   "cell_type": "code",
   "execution_count": null,
   "metadata": {
    "collapsed": true
   },
   "outputs": [],
   "source": [
    "...................."
   ]
  }
 ],
 "metadata": {
  "kernelspec": {
   "display_name": "Python 3",
   "language": "python",
   "name": "python3"
  },
  "language_info": {
   "codemirror_mode": {
    "name": "ipython",
    "version": 3
   },
   "file_extension": ".py",
   "mimetype": "text/x-python",
   "name": "python",
   "nbconvert_exporter": "python",
   "pygments_lexer": "ipython3",
   "version": "3.6.4"
  }
 },
 "nbformat": 4,
 "nbformat_minor": 2
}
